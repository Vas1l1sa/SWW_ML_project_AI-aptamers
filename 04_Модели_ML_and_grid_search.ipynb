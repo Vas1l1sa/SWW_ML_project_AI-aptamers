{
  "nbformat": 4,
  "nbformat_minor": 0,
  "metadata": {
    "colab": {
      "provenance": [],
      "include_colab_link": true
    },
    "kernelspec": {
      "name": "python3",
      "display_name": "Python 3"
    },
    "language_info": {
      "name": "python"
    }
  },
  "cells": [
    {
      "cell_type": "markdown",
      "metadata": {
        "id": "view-in-github",
        "colab_type": "text"
      },
      "source": [
        "<a href=\"https://colab.research.google.com/github/Vas1l1sa/SWW_ML_project_AI-aptamers/blob/main/04_%D0%9C%D0%BE%D0%B4%D0%B5%D0%BB%D0%B8_ML_and_grid_search.ipynb\" target=\"_parent\"><img src=\"https://colab.research.google.com/assets/colab-badge.svg\" alt=\"Open In Colab\"/></a>"
      ]
    },
    {
      "cell_type": "code",
      "execution_count": null,
      "metadata": {
        "id": "GfZtXzvRkXqb"
      },
      "outputs": [],
      "source": [
        "from sklearn.feature_selection import RFE\n",
        "from sklearn.linear_model import LinearRegression\n",
        "from sklearn.ensemble import RandomForestRegressor\n",
        "\n",
        "from sklearn.metrics import accuracy_score\n",
        "from sklearn.metrics import roc_auc_score\n",
        "from sklearn.metrics import roc_curve\n",
        "\n",
        "from sklearn.model_selection import train_test_split\n",
        "from sklearn.preprocessing import StandardScaler\n",
        "from sklearn.model_selection import cross_validate\n",
        "from sklearn.ensemble import RandomForestClassifier\n",
        "\n",
        "\n",
        "import pandas as pd\n",
        "import numpy as np\n",
        "import matplotlib.pyplot as plt"
      ]
    },
    {
      "cell_type": "code",
      "source": [
        "from google.colab import drive\n",
        "drive.mount('/content/drive')"
      ],
      "metadata": {
        "colab": {
          "base_uri": "https://localhost:8080/"
        },
        "id": "5J35Umo6CLho",
        "outputId": "adefcc55-59c5-4447-b181-c20ffe0e2e91"
      },
      "execution_count": 3,
      "outputs": [
        {
          "output_type": "stream",
          "name": "stdout",
          "text": [
            "Drive already mounted at /content/drive; to attempt to forcibly remount, call drive.mount(\"/content/drive\", force_remount=True).\n"
          ]
        }
      ]
    },
    {
      "cell_type": "code",
      "source": [
        "df = pd.read_csv('/content/drive/MyDrive/SWW/аптамеры_df_ML.csv')\n",
        "df.head()"
      ],
      "metadata": {
        "id": "AEDSrgeplTJX"
      },
      "execution_count": null,
      "outputs": []
    },
    {
      "cell_type": "code",
      "source": [
        "df.info()"
      ],
      "metadata": {
        "id": "p8Wj1Q_89Evq"
      },
      "execution_count": null,
      "outputs": []
    },
    {
      "cell_type": "markdown",
      "source": [
        "**Отделим признаки от целевой переменной**"
      ],
      "metadata": {
        "id": "wNniL7ZwGnci"
      }
    },
    {
      "cell_type": "code",
      "source": [
        "X = df.drop(['bind'], axis=1)\n",
        "y = df['bind']"
      ],
      "metadata": {
        "id": "hN4zqI4L_zxq"
      },
      "execution_count": null,
      "outputs": []
    },
    {
      "cell_type": "code",
      "source": [
        "# определяем тестовую и тренировочную выборки, test_size = 0.2\n",
        "\n",
        "X_train, X_test, y_train, y_test = train_test_split(X, y, test_size=0.2, random_state=42)"
      ],
      "metadata": {
        "id": "vH8sj4eR03av"
      },
      "execution_count": null,
      "outputs": []
    },
    {
      "cell_type": "markdown",
      "source": [
        "## Logistic regression"
      ],
      "metadata": {
        "id": "eKczhBCoBTH8"
      }
    },
    {
      "cell_type": "code",
      "source": [
        "from sklearn.linear_model import LogisticRegression"
      ],
      "metadata": {
        "id": "RI-bIayGBWAt"
      },
      "execution_count": null,
      "outputs": []
    },
    {
      "cell_type": "code",
      "source": [
        "Lreg = LogisticRegression(random_state=42, max_iter=50000)\n",
        "Lreg.fit(X_train, y_train)\n",
        "y_pred = Lreg.predict(X_test)\n",
        "accuracy = accuracy_score(y_test, y_pred)\n",
        "roc_auc = roc_auc_score(y_test, y_pred)\n",
        "\n",
        "\n",
        "print(f'Accuracy:{accuracy}\\nROC_AUC {roc_auc}')"
      ],
      "metadata": {
        "id": "VcGWg2KiBbW7"
      },
      "execution_count": null,
      "outputs": []
    },
    {
      "cell_type": "code",
      "source": [
        "### График ROC_AUC\n",
        "\n",
        "# Получаем вероятность положительного класса\n",
        "y_pred_proba_test = Lreg.predict_proba(X_test)[:, 1]\n",
        "\n",
        "# Вычисляем FPR, TPR и ROC AUC\n",
        "fpr, tpr, _ = roc_curve(y_test, y_pred_proba_test)\n",
        "roc_auc = roc_auc_score(y_test, y_pred_proba_test)\n",
        "\n",
        "# Строим график ROC-кривой\n",
        "plt.plot(fpr, tpr, label=f'Model (area = {roc_auc:.2f})')\n",
        "plt.plot([0, 1], [0, 1], 'k--')  # Линия случайной модели\n",
        "\n",
        "plt.xlabel('False Positive Rate')\n",
        "plt.ylabel('True Positive Rate')\n",
        "plt.legend(loc=\"lower right\")\n",
        "plt.title(\"ROC Curve\")\n",
        "plt.show()\n"
      ],
      "metadata": {
        "id": "vP3LiBUv4-Sb"
      },
      "execution_count": null,
      "outputs": []
    },
    {
      "cell_type": "markdown",
      "source": [
        "## KNN"
      ],
      "metadata": {
        "id": "u0V5a5ykmgFh"
      }
    },
    {
      "cell_type": "code",
      "source": [
        "from sklearn.neighbors import KNeighborsClassifier\n",
        "knn = KNeighborsClassifier()"
      ],
      "metadata": {
        "id": "oDqvrqcCmifB"
      },
      "execution_count": null,
      "outputs": []
    },
    {
      "cell_type": "code",
      "source": [
        "knn.fit(X_train, y_train)\n",
        "y_pred = knn.predict(X_test)\n",
        "accuracy = accuracy_score(y_test, y_pred)\n",
        "roc_auc = roc_auc_score(y_test, y_pred)\n",
        "\n",
        "\n",
        "print(f'Accuracy:{accuracy}\\nROC_AUC {roc_auc}')\n"
      ],
      "metadata": {
        "id": "EOdQ_RCunf8n"
      },
      "execution_count": null,
      "outputs": []
    },
    {
      "cell_type": "code",
      "source": [
        "### График ROC_AUC\n",
        "\n",
        "# Получаем вероятность положительного класса\n",
        "y_pred_proba_test = knn.predict_proba(X_test)[:, 1]\n",
        "\n",
        "# Вычисляем FPR, TPR и ROC AUC\n",
        "fpr, tpr, _ = roc_curve(y_test, y_pred_proba_test)\n",
        "roc_auc = roc_auc_score(y_test, y_pred_proba_test)\n",
        "\n",
        "# Строим график ROC-кривой\n",
        "plt.plot(fpr, tpr, label=f'Model (area = {roc_auc:.2f})')\n",
        "plt.plot([0, 1], [0, 1], 'k--')  # Линия случайной модели\n",
        "\n",
        "plt.xlabel('False Positive Rate')\n",
        "plt.ylabel('True Positive Rate')\n",
        "plt.legend(loc=\"lower right\")\n",
        "plt.title(\"ROC Curve\")\n",
        "plt.show()\n"
      ],
      "metadata": {
        "id": "b0J7LdgrjVkD"
      },
      "execution_count": null,
      "outputs": []
    },
    {
      "cell_type": "markdown",
      "source": [
        "## Decision Tree"
      ],
      "metadata": {
        "id": "X8PBHKRYomlP"
      }
    },
    {
      "cell_type": "code",
      "source": [
        "from sklearn.tree import DecisionTreeClassifier\n",
        "Tree = DecisionTreeClassifier(random_state=42)"
      ],
      "metadata": {
        "id": "E85a1p_ioj3H"
      },
      "execution_count": null,
      "outputs": []
    },
    {
      "cell_type": "code",
      "source": [
        "Tree.fit(X_train, y_train)\n",
        "y_pred = Tree.predict(X_test)\n",
        "accuracy = accuracy_score(y_test, y_pred)\n",
        "roc_auc = roc_auc_score(y_test, y_pred)\n",
        "\n",
        "\n",
        "print(f'Accuracy:{accuracy}\\nROC_AUC {roc_auc}')\n"
      ],
      "metadata": {
        "id": "xH0-mk-zpCur"
      },
      "execution_count": null,
      "outputs": []
    },
    {
      "cell_type": "code",
      "source": [
        "### График ROC_AUC\n",
        "\n",
        "# Получаем вероятность положительного класса\n",
        "y_pred_proba_test = Tree.predict_proba(X_test)[:, 1]\n",
        "\n",
        "# Вычисляем FPR, TPR и ROC AUC\n",
        "fpr, tpr, _ = roc_curve(y_test, y_pred_proba_test)\n",
        "roc_auc = roc_auc_score(y_test, y_pred_proba_test)\n",
        "\n",
        "# Строим график ROC-кривой\n",
        "plt.plot(fpr, tpr, label=f'Model (area = {roc_auc:.2f})')\n",
        "plt.plot([0, 1], [0, 1], 'k--')  # Линия случайной модели\n",
        "\n",
        "plt.xlabel('False Positive Rate')\n",
        "plt.ylabel('True Positive Rate')\n",
        "plt.legend(loc=\"lower right\")\n",
        "plt.title(\"ROC Curve\")\n",
        "plt.show()\n"
      ],
      "metadata": {
        "id": "Kpaegy7QjcWp"
      },
      "execution_count": null,
      "outputs": []
    },
    {
      "cell_type": "markdown",
      "source": [
        "## Gradient Boosting"
      ],
      "metadata": {
        "id": "bwe22jSpq7Mn"
      }
    },
    {
      "cell_type": "code",
      "source": [
        "from sklearn.ensemble import GradientBoostingClassifier"
      ],
      "metadata": {
        "id": "yRZYC_ApqfMj"
      },
      "execution_count": null,
      "outputs": []
    },
    {
      "cell_type": "code",
      "source": [
        "grad = GradientBoostingClassifier(random_state=42)"
      ],
      "metadata": {
        "id": "HjkeIZAErAm-"
      },
      "execution_count": null,
      "outputs": []
    },
    {
      "cell_type": "code",
      "source": [
        "grad.fit(X_train, y_train)\n",
        "y_pred = grad.predict(X_test)\n",
        "accuracy = accuracy_score(y_test, y_pred)\n",
        "roc_auc = roc_auc_score(y_test, y_pred)\n",
        "\n",
        "\n",
        "print(f'Accuracy:{accuracy}\\nROC_AUC {roc_auc}')\n"
      ],
      "metadata": {
        "id": "hofWVCy2rEq9"
      },
      "execution_count": null,
      "outputs": []
    },
    {
      "cell_type": "code",
      "source": [
        "### График ROC_AUC\n",
        "\n",
        "# Получаем вероятность положительного класса\n",
        "y_pred_proba_test = grad.predict_proba(X_test)[:, 1]\n",
        "\n",
        "# Вычисляем FPR, TPR и ROC AUC\n",
        "fpr, tpr, _ = roc_curve(y_test, y_pred_proba_test)\n",
        "roc_auc = roc_auc_score(y_test, y_pred_proba_test)\n",
        "\n",
        "# Строим график ROC-кривой\n",
        "plt.plot(fpr, tpr, label=f'Model (area = {roc_auc:.2f})')\n",
        "plt.plot([0, 1], [0, 1], 'k--')  # Линия случайной модели\n",
        "\n",
        "plt.xlabel('False Positive Rate')\n",
        "plt.ylabel('True Positive Rate')\n",
        "plt.legend(loc=\"lower right\")\n",
        "plt.title(\"ROC Curve\")\n",
        "plt.show()\n"
      ],
      "metadata": {
        "id": "SIN8KLuMjhil"
      },
      "execution_count": null,
      "outputs": []
    },
    {
      "cell_type": "markdown",
      "source": [
        "## Random Forest"
      ],
      "metadata": {
        "id": "hoMSCimljnM3"
      }
    },
    {
      "cell_type": "code",
      "source": [
        "from sklearn.ensemble import RandomForestClassifier"
      ],
      "metadata": {
        "id": "B1VXuI8zD2tq"
      },
      "execution_count": null,
      "outputs": []
    },
    {
      "cell_type": "code",
      "source": [
        "RF = RandomForestClassifier(random_state=42)"
      ],
      "metadata": {
        "id": "KRkThv1bEK5q"
      },
      "execution_count": null,
      "outputs": []
    },
    {
      "cell_type": "code",
      "source": [
        "RF.fit(X_train, y_train)\n",
        "y_pred = RF.predict(X_test)\n",
        "accuracy = accuracy_score(y_test, y_pred)\n",
        "roc_auc = roc_auc_score(y_test, y_pred)\n",
        "\n",
        "\n",
        "print(f'Accuracy:{accuracy}\\nROC_AUC {roc_auc}')\n"
      ],
      "metadata": {
        "id": "c_JKDfZ57kRe"
      },
      "execution_count": null,
      "outputs": []
    },
    {
      "cell_type": "code",
      "source": [
        "### График ROC_AUC\n",
        "\n",
        "# Получаем вероятность положительного класса\n",
        "y_pred_proba_test = RF.predict_proba(X_test)[:, 1]\n",
        "\n",
        "# Вычисляем FPR, TPR и ROC AUC\n",
        "fpr, tpr, _ = roc_curve(y_test, y_pred_proba_test)\n",
        "roc_auc = roc_auc_score(y_test, y_pred_proba_test)\n",
        "\n",
        "# Строим график ROC-кривой\n",
        "plt.plot(fpr, tpr, label=f'Model (area = {roc_auc:.2f})')\n",
        "plt.plot([0, 1], [0, 1], 'k--')  # Линия случайной модели\n",
        "\n",
        "plt.xlabel('False Positive Rate')\n",
        "plt.ylabel('True Positive Rate')\n",
        "plt.legend(loc=\"lower right\")\n",
        "plt.title(\"ROC Curve\")\n",
        "plt.show()\n"
      ],
      "metadata": {
        "id": "gFpJ80ko7uAF"
      },
      "execution_count": null,
      "outputs": []
    },
    {
      "cell_type": "markdown",
      "source": [
        "## Lightgbm"
      ],
      "metadata": {
        "id": "QOc8i2injsG3"
      }
    },
    {
      "cell_type": "code",
      "source": [
        "import lightgbm as lgb"
      ],
      "metadata": {
        "id": "xa0_HYKsG5G9"
      },
      "execution_count": null,
      "outputs": []
    },
    {
      "cell_type": "code",
      "source": [
        "lgb = lgb.LGBMClassifier(random_state=42)\n",
        "\n",
        "lgb.fit(X_train, y_train)\n",
        "y_pred = lgb.predict(X_test)\n",
        "accuracy = accuracy_score(y_test, y_pred)\n",
        "roc_auc = roc_auc_score(y_test, y_pred)\n",
        "\n",
        "\n",
        "print(f'Accuracy:{accuracy}\\nROC_AUC {roc_auc}')\n"
      ],
      "metadata": {
        "id": "cAktDlmtG71S"
      },
      "execution_count": null,
      "outputs": []
    },
    {
      "cell_type": "code",
      "source": [
        "### График ROC_AUC\n",
        "\n",
        "# Получаем вероятность положительного класса\n",
        "y_pred_proba_test = lgb.predict_proba(X_test)[:, 1]\n",
        "\n",
        "# Вычисляем FPR, TPR и ROC AUC\n",
        "fpr, tpr, _ = roc_curve(y_test, y_pred_proba_test)\n",
        "roc_auc = roc_auc_score(y_test, y_pred_proba_test)\n",
        "\n",
        "# Строим график ROC-кривой\n",
        "plt.plot(fpr, tpr, label=f'Model (area = {roc_auc:.2f})')\n",
        "plt.plot([0, 1], [0, 1], 'k--')  # Линия случайной модели\n",
        "\n",
        "plt.xlabel('False Positive Rate')\n",
        "plt.ylabel('True Positive Rate')\n",
        "plt.legend(loc=\"lower right\")\n",
        "plt.title(\"ROC Curve\")\n",
        "plt.show()\n"
      ],
      "metadata": {
        "id": "nJsbCdI6_ez3"
      },
      "execution_count": null,
      "outputs": []
    },
    {
      "cell_type": "markdown",
      "source": [
        "## Catboost"
      ],
      "metadata": {
        "id": "skZlGFjyj3PN"
      }
    },
    {
      "cell_type": "code",
      "source": [
        "!pip install catboost -q"
      ],
      "metadata": {
        "id": "sjeVDypdJsYp"
      },
      "execution_count": null,
      "outputs": []
    },
    {
      "cell_type": "code",
      "source": [
        "from catboost import CatBoostClassifier"
      ],
      "metadata": {
        "id": "jEotg6CBJb8A"
      },
      "execution_count": null,
      "outputs": []
    },
    {
      "cell_type": "code",
      "source": [
        "cat = CatBoostClassifier(random_state=42)"
      ],
      "metadata": {
        "id": "Uu1bA-p9J4rH"
      },
      "execution_count": null,
      "outputs": []
    },
    {
      "cell_type": "code",
      "source": [
        "cat.fit(X_train, y_train)\n",
        "y_pred = cat.predict(X_test)\n",
        "accuracy = accuracy_score(y_test, y_pred)\n",
        "roc_auc = roc_auc_score(y_test, y_pred)\n",
        "\n",
        "\n",
        "print(f'Accuracy:{accuracy}\\nROC_AUC {roc_auc}')\n"
      ],
      "metadata": {
        "id": "f3sz1a2BJ_n-"
      },
      "execution_count": null,
      "outputs": []
    },
    {
      "cell_type": "code",
      "source": [
        "### График ROC_AUC\n",
        "\n",
        "# Получаем вероятность положительного класса\n",
        "y_pred_proba_test = cat.predict_proba(X_test)[:, 1]\n",
        "\n",
        "# Вычисляем FPR, TPR и ROC AUC\n",
        "fpr, tpr, _ = roc_curve(y_test, y_pred_proba_test)\n",
        "roc_auc = roc_auc_score(y_test, y_pred_proba_test)\n",
        "\n",
        "# Строим график ROC-кривой\n",
        "plt.plot(fpr, tpr, label=f'Model (area = {roc_auc:.2f})')\n",
        "plt.plot([0, 1], [0, 1], 'k--')  # Линия случайной модели\n",
        "\n",
        "plt.xlabel('False Positive Rate')\n",
        "plt.ylabel('True Positive Rate')\n",
        "plt.legend(loc=\"lower right\")\n",
        "plt.title(\"ROC Curve\")\n",
        "plt.show()\n"
      ],
      "metadata": {
        "id": "S4MZxKrz_lQ-"
      },
      "execution_count": null,
      "outputs": []
    },
    {
      "cell_type": "markdown",
      "source": [
        "Выбор наилучшей модели по показателю accuracy"
      ],
      "metadata": {
        "id": "JfMlMNOCl2yc"
      }
    },
    {
      "cell_type": "code",
      "source": [
        "#посмотрим, у какой из воделей наилучшая метрика accuracy\n",
        "def best_accuracy(models, X_train, y_train, X_test, y_test):\n",
        "    best_accuracy = 0\n",
        "    models_with_best_accuracy = []\n",
        "\n",
        "    for model in models:\n",
        "        model.fit(X_train, y_train)\n",
        "        y_pred = model.predict(X_test)\n",
        "        accuracy = accuracy_score(y_test, y_pred)\n",
        "\n",
        "        if accuracy > best_accuracy:\n",
        "            best_accuracy = accuracy\n",
        "            models_with_best_accuracy = [model]\n",
        "        #посмотрим, нет ли моделей с одинаковым accuracy\n",
        "        elif accuracy == best_accuracy:\n",
        "          models_with_best_accuracy.append(model)\n",
        "\n",
        "    print(f\"Best model(s) by accuracy ({best_accuracy:}):\")\n",
        "    for model in models_with_best_accuracy:\n",
        "        print(f\" - {model.__class__.__name__}\", '\\n')\n",
        "    return models_with_best_accuracy\n",
        "\n",
        "\n",
        "# models = [Lreg, knn, Tree, grad, RF, lgb, cat]\n",
        "models = [Lreg, knn, RF]\n",
        "best_models = best_accuracy(models, X_train, y_train, X_test, y_test)\n"
      ],
      "metadata": {
        "id": "YMTdPcsIl6LP"
      },
      "execution_count": null,
      "outputs": []
    },
    {
      "cell_type": "markdown",
      "source": [
        "Теперь поищем оптимальные гипер параметры для нашей лучшей модели RandomForestClassifier"
      ],
      "metadata": {
        "id": "-fwNjyx41Hma"
      }
    },
    {
      "cell_type": "code",
      "source": [
        "#сделаем поиск по сетке для нахождения оптимальных гиперпараметров\n",
        "from sklearn.model_selection import GridSearchCV\n",
        "param_grid = {'n_estimators': [5, 6, 7, 8, 9, 10, 12, 15, 20, 30, 40, 45, 50, 55, 60, 65, 70, 75, 80, 90, 100, 120, 140, 200, 300, 400, 500], 'max_features': ['sqrt', 'log2']}\n",
        "grid = GridSearchCV(RF, param_grid, cv=5, scoring='roc_auc', error_score=np.nan)\n",
        "grid.fit(X_train, y_train)\n",
        "grid.best_params_\n",
        "#когда мы получили какое-то предварительно хорошее значение 'n_estimators', потом обязательно добавляем в список для перебора ближайшие к этому числу значения и запускаем повторный поиск по сетке\n",
        "#{'max_features': 'sqrt', 'n_estimators': 200}\n"
      ],
      "metadata": {
        "id": "BlSrDWaV1dzm"
      },
      "execution_count": null,
      "outputs": []
    },
    {
      "cell_type": "markdown",
      "source": [
        "Попробуем уточнить это значение"
      ],
      "metadata": {
        "id": "eDxtpv283MVn"
      }
    },
    {
      "cell_type": "code",
      "source": [
        "#сделаем поиск по сетке для нахождения оптимальных гиперпараметров\n",
        "from sklearn.model_selection import GridSearchCV\n",
        "param_grid = {'n_estimators': [150, 180, 190, 195, 198, 200, 205, 210, 220], 'max_features': ['sqrt', 'log2']}\n",
        "grid = GridSearchCV(RF, param_grid, cv=5, scoring='roc_auc', error_score=np.nan)\n",
        "grid.fit(X_train, y_train)\n",
        "grid.best_params_\n",
        "#когда мы получили какое-то предварительно хорошее значение 'n_estimators', потом обязательно добавляем в список для перебора ближайшие к этому числу значения и запускаем повторный поиск по сетке\n",
        "#{'max_features': 'sqrt', 'n_estimators': 200}\n"
      ],
      "metadata": {
        "id": "NPmjayVP24bs"
      },
      "execution_count": null,
      "outputs": []
    },
    {
      "cell_type": "markdown",
      "source": [
        "Создадим модель с такими гипер параметрами"
      ],
      "metadata": {
        "id": "QCOMH4E43QGl"
      }
    },
    {
      "cell_type": "code",
      "source": [
        "#создадим модель с найденными оптимальными гиперпараметрами\n",
        "random_forest_model = RandomForestClassifier(max_features='sqrt', n_estimators=200)\n",
        "random_forest_model.fit(X_train, y_train)\n",
        "y_pred = random_forest_model.predict(X_test)\n",
        "y_pred_proba_test = random_forest_model.predict_proba(X_test)[:, 1]\n",
        "accuracy = accuracy_score(y_test, y_pred)\n",
        "roc_auc = roc_auc_score(y_test, y_pred_proba_test)\n",
        "\n",
        "print(f'Accuracy:{accuracy}\\nROC_AUC {roc_auc}')"
      ],
      "metadata": {
        "id": "-Blonglu3UVY"
      },
      "execution_count": null,
      "outputs": []
    },
    {
      "cell_type": "markdown",
      "source": [
        "Как мы видим, ничего по значениям не поменялось"
      ],
      "metadata": {
        "id": "55HbXKk97MfR"
      }
    },
    {
      "cell_type": "markdown",
      "source": [
        "другие параметры"
      ],
      "metadata": {
        "id": "Bm2lgOFd4Fo1"
      }
    },
    {
      "cell_type": "code",
      "source": [
        "#сделаем поиск по сетке для нахождения оптимальных гиперпараметров\n",
        "from sklearn.model_selection import GridSearchCV\n",
        "param_grid = {\n",
        "    'n_estimators': [50, 100, 200],  # Количество деревьев в лесу\n",
        "    'max_depth': [None, 10, 20, 30],  # Глубина деревьев\n",
        "    'min_samples_split': [2, 5, 10],  # Минимальное количество образцов для разделения узла\n",
        "    'min_samples_leaf': [1, 2, 4],  # Минимальное количество образцов в листе\n",
        "    'max_features': ['sqrt', 'log2'],  # Количество признаков для выбора при разбиении\n",
        "    'bootstrap': [True, False],  # Использование бутстрэп-выборки\n",
        "    'criterion': ['gini', 'entropy'],  # Функция оценки качества разбиения\n",
        "}\n",
        "\n",
        "grid = GridSearchCV(RF, param_grid, cv=5, scoring='roc_auc', error_score=np.nan)\n",
        "grid.fit(X_train, y_train)\n",
        "grid.best_params_\n",
        "#когда мы получили какое-то предварительно хорошее значение 'n_estimators', потом обязательно добавляем в список для перебора ближайшие к этому числу значения и запускаем повторный поиск по сетке\n",
        "#{'max_features': 'sqrt', 'n_estimators': 200}\n",
        "\n",
        "\n"
      ],
      "metadata": {
        "id": "HGHgg_pP4HGJ"
      },
      "execution_count": null,
      "outputs": []
    },
    {
      "cell_type": "markdown",
      "source": [
        "Получили оптимальные гипер параметры"
      ],
      "metadata": {
        "id": "jU64fn8lAZ2b"
      }
    },
    {
      "cell_type": "code",
      "source": [
        "{'bootstrap': False,\n",
        " 'criterion': 'gini',\n",
        " 'max_depth': 20,\n",
        " 'max_features': 'sqrt',\n",
        " 'min_samples_leaf': 2,\n",
        " 'min_samples_split': 2,\n",
        " 'n_estimators': 100}"
      ],
      "metadata": {
        "id": "IwTeCpP1AdgY"
      },
      "execution_count": null,
      "outputs": []
    },
    {
      "cell_type": "markdown",
      "source": [
        "Создадим модель с такими гипер параметрами"
      ],
      "metadata": {
        "id": "JZXTwk9vA_p7"
      }
    },
    {
      "cell_type": "code",
      "source": [
        "#создадим модель с найденными оптимальными гиперпараметрами\n",
        "random_forest_model = RandomForestClassifier(bootstrap=False, criterion='gini', max_depth=20, max_features='sqrt', min_samples_leaf=2, min_samples_split=2, n_estimators=100 )\n",
        "random_forest_model.fit(X_train, y_train)\n",
        "y_pred = random_forest_model.predict(X_test)\n",
        "y_pred_proba_test = random_forest_model.predict_proba(X_test)[:, 1]\n",
        "accuracy = accuracy_score(y_test, y_pred)\n",
        "roc_auc = roc_auc_score(y_test, y_pred_proba_test)\n",
        "\n",
        "print(f'Accuracy:{accuracy}\\nROC_AUC {roc_auc}')"
      ],
      "metadata": {
        "id": "6fU4C4fZA_p8"
      },
      "execution_count": null,
      "outputs": []
    },
    {
      "cell_type": "code",
      "source": [
        "### График ROC_AUC\n",
        "\n",
        "# Получаем вероятность положительного класса\n",
        "y_pred_proba_test = random_forest_model.predict_proba(X_test)[:, 1]\n",
        "\n",
        "# Вычисляем FPR, TPR и ROC AUC\n",
        "fpr, tpr, _ = roc_curve(y_test, y_pred_proba_test)\n",
        "roc_auc = roc_auc_score(y_test, y_pred_proba_test)\n",
        "\n",
        "# Строим график ROC-кривой\n",
        "plt.plot(fpr, tpr, label=f'Model (area = {roc_auc:.2f})')\n",
        "plt.plot([0, 1], [0, 1], 'k--')  # Линия случайной модели\n",
        "\n",
        "plt.xlabel('False Positive Rate')\n",
        "plt.ylabel('True Positive Rate')\n",
        "plt.legend(loc=\"lower right\")\n",
        "plt.title(\"ROC Curve\")\n",
        "plt.show()\n"
      ],
      "metadata": {
        "id": "_2Tba8aOCIGj"
      },
      "execution_count": null,
      "outputs": []
    },
    {
      "cell_type": "markdown",
      "source": [
        "Сохраним нашу наилучшую модель"
      ],
      "metadata": {
        "id": "6Wdqm5P6UsJN"
      }
    },
    {
      "cell_type": "code",
      "source": [
        "aptamer_antibiotics_binding_prediction_model = random_forest_model\n"
      ],
      "metadata": {
        "id": "rHHp9kWVUusq"
      },
      "execution_count": null,
      "outputs": []
    },
    {
      "cell_type": "code",
      "source": [
        "#сохранение модели\n",
        "\n",
        "from joblib import dump, load\n",
        "\n",
        "dump(aptamer_antibiotics_binding_prediction_model, '/content/drive/MyDrive/SWW/aptamer_antibiotics_binding_prediction_model.joblib')\n"
      ],
      "metadata": {
        "id": "a9I_Fj4mU-k9"
      },
      "execution_count": null,
      "outputs": []
    }
  ]
}